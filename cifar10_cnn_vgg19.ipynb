{
  "nbformat": 4,
  "nbformat_minor": 0,
  "metadata": {
    "colab": {
      "name": "Transfer_learning_Cifar10_VGG19.ipynb",
      "version": "0.3.2",
      "views": {},
      "default_view": {},
      "provenance": [],
      "collapsed_sections": []
    },
    "kernelspec": {
      "display_name": "Python 3",
      "language": "python",
      "name": "python3"
    },
    "accelerator": "GPU"
  },
  "cells": [
    {
      "metadata": {
        "id": "Gt-09gY8IoFv",
        "colab_type": "code",
        "colab": {
          "autoexec": {
            "startup": false,
            "wait_interval": 0
          },
          "base_uri": "https://localhost:8080/",
          "height": 935
        },
        "outputId": "d40179b0-2458-4e88-f97e-e234def01bb6",
        "executionInfo": {
          "status": "ok",
          "timestamp": 1523080232228,
          "user_tz": 420,
          "elapsed": 2856,
          "user": {
            "displayName": "Arun Rajendran",
            "photoUrl": "https://lh3.googleusercontent.com/a/default-user=s128",
            "userId": "100710189298922321078"
          }
        }
      },
      "cell_type": "code",
      "source": [
        "import keras\n",
        "from keras.datasets import cifar10\n",
        "import numpy as np\n",
        "from keras.applications.vgg19 import VGG19, preprocess_input\n",
        "import scipy\n",
        "from scipy import misc\n",
        "import os\n",
        "\n",
        "# load the data\n",
        "(x_train, y_train), (x_test, y_test) = cifar10.load_data()\n",
        "y_train = np.squeeze(y_train)\n",
        "print('data loaded')\n",
        "\n",
        "# load vgg19 model + remove final classification layers\n",
        "I_R=64\n",
        "model = VGG19(weights='imagenet', include_top=False, input_shape=(I_R,I_R, 3))\n",
        "model.summary()\n",
        "print('model loaded')"
      ],
      "execution_count": 1,
      "outputs": [
        {
          "output_type": "stream",
          "text": [
            "Using TensorFlow backend.\n"
          ],
          "name": "stderr"
        },
        {
          "output_type": "stream",
          "text": [
            "data loaded\n",
            "_________________________________________________________________\n",
            "Layer (type)                 Output Shape              Param #   \n",
            "=================================================================\n",
            "input_1 (InputLayer)         (None, 64, 64, 3)         0         \n",
            "_________________________________________________________________\n",
            "block1_conv1 (Conv2D)        (None, 64, 64, 64)        1792      \n",
            "_________________________________________________________________\n",
            "block1_conv2 (Conv2D)        (None, 64, 64, 64)        36928     \n",
            "_________________________________________________________________\n",
            "block1_pool (MaxPooling2D)   (None, 32, 32, 64)        0         \n",
            "_________________________________________________________________\n",
            "block2_conv1 (Conv2D)        (None, 32, 32, 128)       73856     \n",
            "_________________________________________________________________\n",
            "block2_conv2 (Conv2D)        (None, 32, 32, 128)       147584    \n",
            "_________________________________________________________________\n",
            "block2_pool (MaxPooling2D)   (None, 16, 16, 128)       0         \n",
            "_________________________________________________________________\n",
            "block3_conv1 (Conv2D)        (None, 16, 16, 256)       295168    \n",
            "_________________________________________________________________\n",
            "block3_conv2 (Conv2D)        (None, 16, 16, 256)       590080    \n",
            "_________________________________________________________________\n",
            "block3_conv3 (Conv2D)        (None, 16, 16, 256)       590080    \n",
            "_________________________________________________________________\n",
            "block3_conv4 (Conv2D)        (None, 16, 16, 256)       590080    \n",
            "_________________________________________________________________\n",
            "block3_pool (MaxPooling2D)   (None, 8, 8, 256)         0         \n",
            "_________________________________________________________________\n",
            "block4_conv1 (Conv2D)        (None, 8, 8, 512)         1180160   \n",
            "_________________________________________________________________\n",
            "block4_conv2 (Conv2D)        (None, 8, 8, 512)         2359808   \n",
            "_________________________________________________________________\n",
            "block4_conv3 (Conv2D)        (None, 8, 8, 512)         2359808   \n",
            "_________________________________________________________________\n",
            "block4_conv4 (Conv2D)        (None, 8, 8, 512)         2359808   \n",
            "_________________________________________________________________\n",
            "block4_pool (MaxPooling2D)   (None, 4, 4, 512)         0         \n",
            "_________________________________________________________________\n",
            "block5_conv1 (Conv2D)        (None, 4, 4, 512)         2359808   \n",
            "_________________________________________________________________\n",
            "block5_conv2 (Conv2D)        (None, 4, 4, 512)         2359808   \n",
            "_________________________________________________________________\n",
            "block5_conv3 (Conv2D)        (None, 4, 4, 512)         2359808   \n",
            "_________________________________________________________________\n",
            "block5_conv4 (Conv2D)        (None, 4, 4, 512)         2359808   \n",
            "_________________________________________________________________\n",
            "block5_pool (MaxPooling2D)   (None, 2, 2, 512)         0         \n",
            "=================================================================\n",
            "Total params: 20,024,384\n",
            "Trainable params: 20,024,384\n",
            "Non-trainable params: 0\n",
            "_________________________________________________________________\n",
            "model loaded\n"
          ],
          "name": "stdout"
        }
      ]
    },
    {
      "metadata": {
        "id": "7aJj6-ydLJK-",
        "colab_type": "code",
        "colab": {
          "autoexec": {
            "startup": false,
            "wait_interval": 0
          },
          "base_uri": "https://localhost:8080/",
          "height": 51
        },
        "outputId": "d3fa68c6-b7ed-4252-88d6-0beecb15d831",
        "executionInfo": {
          "status": "ok",
          "timestamp": 1523080233464,
          "user_tz": 420,
          "elapsed": 1214,
          "user": {
            "displayName": "Arun Rajendran",
            "photoUrl": "https://lh3.googleusercontent.com/a/default-user=s128",
            "userId": "100710189298922321078"
          }
        }
      },
      "cell_type": "code",
      "source": [
        "# obtain bottleneck features (train)\n",
        "if os.path.exists('vgg19_features_train.npz'):\n",
        "    print('bottleneck features detected (train)')\n",
        "    features = np.load('vgg19_features_train.npz')['features']\n",
        "else:\n",
        "  # obtain bottleneck features (train)\n",
        "  print('bottleneck features file not detected (train)')\n",
        "  print('calculating now ...')\n",
        "  # pre-process the train data\n",
        "  big_x_train = np.array([scipy.misc.imresize(x_train[i], (I_R,I_R, 3)) \n",
        "                     for i in range(0, len(x_train))]).astype('float32')\n",
        "  inception_input_train = preprocess_input(big_x_train)\n",
        "  print('train data prepsrocessed')\n",
        "  # extract, process, and save bottleneck features\n",
        "  features = model.predict(inception_input_train)\n",
        "  features = np.squeeze(features)\n",
        "  np.savez('vgg19_features_train', features=features)\n",
        "print('bottleneck features saved (train)')"
      ],
      "execution_count": 2,
      "outputs": [
        {
          "output_type": "stream",
          "text": [
            "bottleneck features detected (train)\n",
            "bottleneck features saved (train)\n"
          ],
          "name": "stdout"
        }
      ]
    },
    {
      "metadata": {
        "id": "lGG4JqxtMrJo",
        "colab_type": "code",
        "colab": {
          "autoexec": {
            "startup": false,
            "wait_interval": 0
          },
          "base_uri": "https://localhost:8080/",
          "height": 68
        },
        "outputId": "044e8fc2-781c-4bc4-e15d-039159572e28",
        "executionInfo": {
          "status": "ok",
          "timestamp": 1523080252255,
          "user_tz": 420,
          "elapsed": 18763,
          "user": {
            "displayName": "Arun Rajendran",
            "photoUrl": "https://lh3.googleusercontent.com/a/default-user=s128",
            "userId": "100710189298922321078"
          }
        }
      },
      "cell_type": "code",
      "source": [
        "# obtain bottleneck features (test)\n",
        "if os.path.exists('vgg19_features_test.npz'):\n",
        "    print('bottleneck features detected (test)')\n",
        "    features_test = np.load('vgg19_features_test.npz')['features_test']\n",
        "else:\n",
        "  print('bottleneck features file not detected (test)')\n",
        "  print('calculating now ...')\n",
        "  # pre-process the test data\n",
        "  big_x_test = np.array([scipy.misc.imresize(x_test[i], (I_R,I_R, 3)) \n",
        "                     for i in range(0, len(x_test))]).astype('float32')\n",
        "  inception_input_test = preprocess_input(big_x_test)\n",
        "  # extract, process, and save bottleneck features (test)\n",
        "  features_test = model.predict(inception_input_test)\n",
        "  features_test = np.squeeze(features_test)\n",
        "  np.savez('vgg19_features_test', features_test=features_test)\n",
        "print('bottleneck features saved (test)')"
      ],
      "execution_count": 3,
      "outputs": [
        {
          "output_type": "stream",
          "text": [
            "bottleneck features file not detected (test)\n",
            "calculating now ...\n",
            "bottleneck features saved (test)\n"
          ],
          "name": "stdout"
        }
      ]
    },
    {
      "metadata": {
        "id": "5CtrMMTlIoGA",
        "colab_type": "code",
        "colab": {
          "autoexec": {
            "startup": false,
            "wait_interval": 0
          }
        }
      },
      "cell_type": "code",
      "source": [
        "from keras.utils import np_utils\n",
        "\n",
        "# one-hot encode the labels\n",
        "y_train = np_utils.to_categorical(y_train, 10)\n",
        "y_test = np_utils.to_categorical(y_test, 10)"
      ],
      "execution_count": 0,
      "outputs": []
    },
    {
      "metadata": {
        "id": "UgMt1w4PIoGD",
        "colab_type": "code",
        "colab": {
          "autoexec": {
            "startup": false,
            "wait_interval": 0
          },
          "base_uri": "https://localhost:8080/",
          "height": 3740
        },
        "outputId": "af82ba92-e051-472e-c1e8-2aa80b787dc8",
        "executionInfo": {
          "status": "ok",
          "timestamp": 1523080514594,
          "user_tz": 420,
          "elapsed": 261821,
          "user": {
            "displayName": "Arun Rajendran",
            "photoUrl": "https://lh3.googleusercontent.com/a/default-user=s128",
            "userId": "100710189298922321078"
          }
        }
      },
      "cell_type": "code",
      "source": [
        "from keras.callbacks import ModelCheckpoint   \n",
        "from keras.models import Sequential\n",
        "from keras.layers import Dense, Dropout, Conv2D, GlobalAveragePooling2D\n",
        "\n",
        "model = Sequential()\n",
        "model.add(Conv2D(filters=100, kernel_size=2, input_shape=features.shape[1:]))\n",
        "model.add(Dropout(0.4))\n",
        "model.add(GlobalAveragePooling2D())\n",
        "model.add(Dropout(0.3))\n",
        "model.add(Dense(10, activation='softmax'))\n",
        "model.summary()\n",
        "\n",
        "model.compile(loss='categorical_crossentropy', optimizer='rmsprop', metrics=['accuracy'])\n",
        "\n",
        "checkpointer = ModelCheckpoint(filepath='cnn_vgg19_model.best.hdf5', \n",
        "                               verbose=1, save_best_only=True)\n",
        "model.fit(features, y_train, batch_size=50, epochs=50,\n",
        "          validation_split=0.2, callbacks=[checkpointer],\n",
        "          verbose=2, shuffle=True)"
      ],
      "execution_count": 5,
      "outputs": [
        {
          "output_type": "stream",
          "text": [
            "_________________________________________________________________\n",
            "Layer (type)                 Output Shape              Param #   \n",
            "=================================================================\n",
            "conv2d_1 (Conv2D)            (None, 1, 1, 100)         204900    \n",
            "_________________________________________________________________\n",
            "dropout_1 (Dropout)          (None, 1, 1, 100)         0         \n",
            "_________________________________________________________________\n",
            "global_average_pooling2d_1 ( (None, 100)               0         \n",
            "_________________________________________________________________\n",
            "dropout_2 (Dropout)          (None, 100)               0         \n",
            "_________________________________________________________________\n",
            "dense_1 (Dense)              (None, 10)                1010      \n",
            "=================================================================\n",
            "Total params: 205,910\n",
            "Trainable params: 205,910\n",
            "Non-trainable params: 0\n",
            "_________________________________________________________________\n",
            "Train on 40000 samples, validate on 10000 samples\n",
            "Epoch 1/50\n",
            " - 5s - loss: 5.5028 - acc: 0.6114 - val_loss: 4.0673 - val_acc: 0.7113\n",
            "\n",
            "Epoch 00001: val_loss improved from inf to 4.06732, saving model to cnn_vgg19_model.best.hdf5\n",
            "Epoch 2/50\n",
            " - 5s - loss: 4.5583 - acc: 0.6869 - val_loss: 4.0177 - val_acc: 0.7242\n",
            "\n",
            "Epoch 00002: val_loss improved from 4.06732 to 4.01765, saving model to cnn_vgg19_model.best.hdf5\n",
            "Epoch 3/50\n",
            " - 5s - loss: 4.3027 - acc: 0.7069 - val_loss: 4.0380 - val_acc: 0.7232\n",
            "\n",
            "Epoch 00003: val_loss did not improve\n",
            "Epoch 4/50\n",
            " - 5s - loss: 4.1867 - acc: 0.7161 - val_loss: 3.7765 - val_acc: 0.7454\n",
            "\n",
            "Epoch 00004: val_loss improved from 4.01765 to 3.77650, saving model to cnn_vgg19_model.best.hdf5\n",
            "Epoch 5/50\n",
            " - 5s - loss: 4.0861 - acc: 0.7248 - val_loss: 3.7787 - val_acc: 0.7435\n",
            "\n",
            "Epoch 00005: val_loss did not improve\n",
            "Epoch 6/50\n",
            " - 5s - loss: 4.0411 - acc: 0.7292 - val_loss: 3.8109 - val_acc: 0.7446\n",
            "\n",
            "Epoch 00006: val_loss did not improve\n",
            "Epoch 7/50\n",
            " - 5s - loss: 3.9528 - acc: 0.7356 - val_loss: 3.8579 - val_acc: 0.7451\n",
            "\n",
            "Epoch 00007: val_loss did not improve\n",
            "Epoch 8/50\n",
            " - 5s - loss: 3.9084 - acc: 0.7395 - val_loss: 3.7883 - val_acc: 0.7473\n",
            "\n",
            "Epoch 00008: val_loss did not improve\n",
            "Epoch 9/50\n",
            " - 5s - loss: 3.8540 - acc: 0.7438 - val_loss: 3.8120 - val_acc: 0.7467\n",
            "\n",
            "Epoch 00009: val_loss did not improve\n",
            "Epoch 10/50\n",
            " - 5s - loss: 3.8509 - acc: 0.7445 - val_loss: 3.7546 - val_acc: 0.7525\n",
            "\n",
            "Epoch 00010: val_loss improved from 3.77650 to 3.75461, saving model to cnn_vgg19_model.best.hdf5\n",
            "Epoch 11/50\n",
            " - 5s - loss: 3.8248 - acc: 0.7469 - val_loss: 3.7291 - val_acc: 0.7532\n",
            "\n",
            "Epoch 00011: val_loss improved from 3.75461 to 3.72909, saving model to cnn_vgg19_model.best.hdf5\n",
            "Epoch 12/50\n",
            " - 5s - loss: 3.8256 - acc: 0.7483 - val_loss: 3.7405 - val_acc: 0.7528\n",
            "\n",
            "Epoch 00012: val_loss did not improve\n",
            "Epoch 13/50\n",
            " - 5s - loss: 3.7709 - acc: 0.7510 - val_loss: 3.7321 - val_acc: 0.7540\n",
            "\n",
            "Epoch 00013: val_loss did not improve\n",
            "Epoch 14/50\n",
            " - 5s - loss: 3.7142 - acc: 0.7548 - val_loss: 3.7240 - val_acc: 0.7549\n",
            "\n",
            "Epoch 00014: val_loss improved from 3.72909 to 3.72405, saving model to cnn_vgg19_model.best.hdf5\n",
            "Epoch 15/50\n",
            " - 5s - loss: 3.7495 - acc: 0.7532 - val_loss: 3.6653 - val_acc: 0.7580\n",
            "\n",
            "Epoch 00015: val_loss improved from 3.72405 to 3.66526, saving model to cnn_vgg19_model.best.hdf5\n",
            "Epoch 16/50\n",
            " - 5s - loss: 3.7158 - acc: 0.7557 - val_loss: 3.6958 - val_acc: 0.7564\n",
            "\n",
            "Epoch 00016: val_loss did not improve\n",
            "Epoch 17/50\n",
            " - 5s - loss: 3.7096 - acc: 0.7564 - val_loss: 3.8685 - val_acc: 0.7477\n",
            "\n",
            "Epoch 00017: val_loss did not improve\n",
            "Epoch 18/50\n",
            " - 5s - loss: 3.7130 - acc: 0.7564 - val_loss: 3.7148 - val_acc: 0.7580\n",
            "\n",
            "Epoch 00018: val_loss did not improve\n",
            "Epoch 19/50\n",
            " - 5s - loss: 3.6997 - acc: 0.7575 - val_loss: 3.6528 - val_acc: 0.7607\n",
            "\n",
            "Epoch 00019: val_loss improved from 3.66526 to 3.65284, saving model to cnn_vgg19_model.best.hdf5\n",
            "Epoch 20/50\n"
          ],
          "name": "stdout"
        },
        {
          "output_type": "stream",
          "text": [
            " - 5s - loss: 3.6443 - acc: 0.7620 - val_loss: 3.7390 - val_acc: 0.7554\n",
            "\n",
            "Epoch 00020: val_loss did not improve\n",
            "Epoch 21/50\n",
            " - 5s - loss: 3.6892 - acc: 0.7595 - val_loss: 3.7113 - val_acc: 0.7562\n",
            "\n",
            "Epoch 00021: val_loss did not improve\n",
            "Epoch 22/50\n",
            " - 5s - loss: 3.6739 - acc: 0.7603 - val_loss: 3.7182 - val_acc: 0.7577\n",
            "\n",
            "Epoch 00022: val_loss did not improve\n",
            "Epoch 23/50\n",
            " - 5s - loss: 3.6294 - acc: 0.7633 - val_loss: 3.6969 - val_acc: 0.7598\n",
            "\n",
            "Epoch 00023: val_loss did not improve\n",
            "Epoch 24/50\n",
            " - 5s - loss: 3.7026 - acc: 0.7592 - val_loss: 3.7861 - val_acc: 0.7543\n",
            "\n",
            "Epoch 00024: val_loss did not improve\n",
            "Epoch 25/50\n",
            " - 5s - loss: 3.6572 - acc: 0.7618 - val_loss: 3.6386 - val_acc: 0.7643\n",
            "\n",
            "Epoch 00025: val_loss improved from 3.65284 to 3.63862, saving model to cnn_vgg19_model.best.hdf5\n",
            "Epoch 26/50\n",
            " - 5s - loss: 3.6246 - acc: 0.7642 - val_loss: 3.7072 - val_acc: 0.7588\n",
            "\n",
            "Epoch 00026: val_loss did not improve\n",
            "Epoch 27/50\n",
            " - 5s - loss: 3.6130 - acc: 0.7653 - val_loss: 3.8342 - val_acc: 0.7510\n",
            "\n",
            "Epoch 00027: val_loss did not improve\n",
            "Epoch 28/50\n",
            " - 5s - loss: 3.6152 - acc: 0.7658 - val_loss: 3.7948 - val_acc: 0.7548\n",
            "\n",
            "Epoch 00028: val_loss did not improve\n",
            "Epoch 29/50\n",
            " - 5s - loss: 3.5883 - acc: 0.7666 - val_loss: 3.6822 - val_acc: 0.7612\n",
            "\n",
            "Epoch 00029: val_loss did not improve\n",
            "Epoch 30/50\n",
            " - 5s - loss: 3.6311 - acc: 0.7653 - val_loss: 3.6741 - val_acc: 0.7632\n",
            "\n",
            "Epoch 00030: val_loss did not improve\n",
            "Epoch 31/50\n",
            " - 5s - loss: 3.5993 - acc: 0.7672 - val_loss: 3.6985 - val_acc: 0.7608\n",
            "\n",
            "Epoch 00031: val_loss did not improve\n",
            "Epoch 32/50\n",
            " - 5s - loss: 3.5927 - acc: 0.7677 - val_loss: 3.6910 - val_acc: 0.7619\n",
            "\n",
            "Epoch 00032: val_loss did not improve\n",
            "Epoch 33/50\n",
            " - 5s - loss: 3.6389 - acc: 0.7647 - val_loss: 3.8005 - val_acc: 0.7544\n",
            "\n",
            "Epoch 00033: val_loss did not improve\n",
            "Epoch 34/50\n",
            " - 5s - loss: 3.6061 - acc: 0.7669 - val_loss: 3.7619 - val_acc: 0.7566\n",
            "\n",
            "Epoch 00034: val_loss did not improve\n",
            "Epoch 35/50\n",
            " - 5s - loss: 3.5611 - acc: 0.7701 - val_loss: 3.8112 - val_acc: 0.7554\n",
            "\n",
            "Epoch 00035: val_loss did not improve\n",
            "Epoch 36/50\n",
            " - 5s - loss: 3.5232 - acc: 0.7731 - val_loss: 3.8316 - val_acc: 0.7528\n",
            "\n",
            "Epoch 00036: val_loss did not improve\n",
            "Epoch 37/50\n",
            " - 5s - loss: 3.5323 - acc: 0.7721 - val_loss: 3.8201 - val_acc: 0.7546\n",
            "\n",
            "Epoch 00037: val_loss did not improve\n",
            "Epoch 38/50\n",
            " - 5s - loss: 3.5400 - acc: 0.7722 - val_loss: 3.8510 - val_acc: 0.7528\n",
            "\n",
            "Epoch 00038: val_loss did not improve\n",
            "Epoch 39/50\n",
            " - 5s - loss: 3.5425 - acc: 0.7711 - val_loss: 3.6716 - val_acc: 0.7627\n",
            "\n",
            "Epoch 00039: val_loss did not improve\n",
            "Epoch 40/50\n",
            " - 5s - loss: 3.5001 - acc: 0.7744 - val_loss: 3.7604 - val_acc: 0.7583\n",
            "\n",
            "Epoch 00040: val_loss did not improve\n",
            "Epoch 41/50\n",
            " - 5s - loss: 3.5420 - acc: 0.7719 - val_loss: 3.7559 - val_acc: 0.7600\n",
            "\n",
            "Epoch 00041: val_loss did not improve\n",
            "Epoch 42/50\n",
            " - 5s - loss: 3.5431 - acc: 0.7720 - val_loss: 3.7198 - val_acc: 0.7606\n",
            "\n",
            "Epoch 00042: val_loss did not improve\n",
            "Epoch 43/50\n",
            " - 5s - loss: 3.5317 - acc: 0.7730 - val_loss: 3.7192 - val_acc: 0.7612\n",
            "\n",
            "Epoch 00043: val_loss did not improve\n",
            "Epoch 44/50\n",
            " - 5s - loss: 3.4998 - acc: 0.7753 - val_loss: 3.7529 - val_acc: 0.7592\n",
            "\n",
            "Epoch 00044: val_loss did not improve\n",
            "Epoch 45/50\n",
            " - 5s - loss: 3.5424 - acc: 0.7719 - val_loss: 3.7159 - val_acc: 0.7614\n",
            "\n",
            "Epoch 00045: val_loss did not improve\n",
            "Epoch 46/50\n",
            " - 5s - loss: 3.5601 - acc: 0.7710 - val_loss: 3.7547 - val_acc: 0.7587\n",
            "\n",
            "Epoch 00046: val_loss did not improve\n",
            "Epoch 47/50\n",
            " - 5s - loss: 3.5719 - acc: 0.7703 - val_loss: 3.7653 - val_acc: 0.7595\n"
          ],
          "name": "stdout"
        },
        {
          "output_type": "stream",
          "text": [
            "\n",
            "Epoch 00047: val_loss did not improve\n",
            "Epoch 48/50\n",
            " - 5s - loss: 3.5554 - acc: 0.7717 - val_loss: 3.7947 - val_acc: 0.7571\n",
            "\n",
            "Epoch 00048: val_loss did not improve\n",
            "Epoch 49/50\n",
            " - 5s - loss: 3.5593 - acc: 0.7717 - val_loss: 3.7206 - val_acc: 0.7614\n",
            "\n",
            "Epoch 00049: val_loss did not improve\n",
            "Epoch 50/50\n",
            " - 5s - loss: 3.5176 - acc: 0.7742 - val_loss: 3.7819 - val_acc: 0.7588\n",
            "\n",
            "Epoch 00050: val_loss did not improve\n"
          ],
          "name": "stdout"
        },
        {
          "output_type": "execute_result",
          "data": {
            "text/plain": [
              "<keras.callbacks.History at 0x7f378c310ef0>"
            ]
          },
          "metadata": {
            "tags": []
          },
          "execution_count": 5
        }
      ]
    },
    {
      "metadata": {
        "id": "295U2IcqIoGG",
        "colab_type": "code",
        "colab": {
          "autoexec": {
            "startup": false,
            "wait_interval": 0
          },
          "base_uri": "https://localhost:8080/",
          "height": 34
        },
        "outputId": "0948e2f7-40ed-4a2b-b5f4-d21ba417c8c8",
        "executionInfo": {
          "status": "ok",
          "timestamp": 1523080515684,
          "user_tz": 420,
          "elapsed": 1022,
          "user": {
            "displayName": "Arun Rajendran",
            "photoUrl": "https://lh3.googleusercontent.com/a/default-user=s128",
            "userId": "100710189298922321078"
          }
        }
      },
      "cell_type": "code",
      "source": [
        "# load the weights that yielded the best validation accuracy\n",
        "model.load_weights('cnn_vgg19_model.best.hdf5')\n",
        "\n",
        "# evaluate test accuracy\n",
        "score = model.evaluate(features_test, y_test, verbose=0)\n",
        "accuracy = 100*score[1]\n",
        "\n",
        "# print test accuracy\n",
        "print('Test accuracy: %.4f%%' % accuracy)"
      ],
      "execution_count": 6,
      "outputs": [
        {
          "output_type": "stream",
          "text": [
            "Test accuracy: 76.2600%\n"
          ],
          "name": "stdout"
        }
      ]
    }
  ]
}